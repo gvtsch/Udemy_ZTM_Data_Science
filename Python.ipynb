{
  "nbformat": 4,
  "nbformat_minor": 0,
  "metadata": {
    "colab": {
      "name": "Python.ipynb",
      "provenance": [],
      "collapsed_sections": [],
      "authorship_tag": "ABX9TyMWjR11rGLttznyu4d8sEsl",
      "include_colab_link": true
    },
    "kernelspec": {
      "name": "python3",
      "display_name": "Python 3"
    },
    "language_info": {
      "name": "python"
    }
  },
  "cells": [
    {
      "cell_type": "markdown",
      "metadata": {
        "id": "view-in-github",
        "colab_type": "text"
      },
      "source": [
        "<a href=\"https://colab.research.google.com/github/gvtsch/Udemy_ZTM_Data_Science/blob/main/Python.ipynb\" target=\"_parent\"><img src=\"https://colab.research.google.com/assets/colab-badge.svg\" alt=\"Open In Colab\"/></a>"
      ]
    },
    {
      "cell_type": "markdown",
      "source": [
        "## Datatypes"
      ],
      "metadata": {
        "id": "3GumppPdS7lH"
      }
    },
    {
      "cell_type": "markdown",
      "source": [
        "### Fundamental Data Types\n",
        "\n",
        "* `int`\n",
        "* `float`\n",
        "* `bool`\n",
        "* `str`\n",
        "* `list`\n",
        "* `tuple`\n",
        "* `set`\n",
        "* `dict`\n"
      ],
      "metadata": {
        "id": "e-ERXul6SMgt"
      }
    },
    {
      "cell_type": "markdown",
      "source": [
        "#### Integers"
      ],
      "metadata": {
        "id": "9UySWM2pTFWJ"
      }
    },
    {
      "cell_type": "code",
      "execution_count": 1,
      "metadata": {
        "colab": {
          "base_uri": "https://localhost:8080/"
        },
        "id": "JNwC0_3pSEjc",
        "outputId": "fa180f60-1fce-46d0-b954-d62fe7878eda"
      },
      "outputs": [
        {
          "output_type": "stream",
          "name": "stdout",
          "text": [
            "6\n",
            "<class 'int'>\n",
            "8\n"
          ]
        }
      ],
      "source": [
        "print(2+4)\n",
        "print(type(2+4))\n",
        "print(2*4)"
      ]
    },
    {
      "cell_type": "markdown",
      "source": [
        "#### Floats\n",
        "Need more memory to be stored"
      ],
      "metadata": {
        "id": "LpgasLNXTOde"
      }
    },
    {
      "cell_type": "code",
      "source": [
        "print(10.56)\n",
        "print(type(10.56))\n",
        "print(type(10.56+20))\n",
        "print(type(9.9+1.1))"
      ],
      "metadata": {
        "colab": {
          "base_uri": "https://localhost:8080/"
        },
        "id": "vxXAZMOsTPl9",
        "outputId": "99bcd2b0-014a-4293-a1a5-4d1f83c491ee"
      },
      "execution_count": 5,
      "outputs": [
        {
          "output_type": "stream",
          "name": "stdout",
          "text": [
            "10.56\n",
            "<class 'float'>\n",
            "<class 'float'>\n",
            "<class 'float'>\n"
          ]
        }
      ]
    },
    {
      "cell_type": "code",
      "source": [
        "print(2 ** 3)\n",
        "print(2 // 4) # returns Integer (rounded down)\n",
        "print(5 // 4)"
      ],
      "metadata": {
        "colab": {
          "base_uri": "https://localhost:8080/"
        },
        "id": "AFCTLQ5OTj_G",
        "outputId": "dd305e86-1007-44d8-f988-d1523f4c82d9"
      },
      "execution_count": 7,
      "outputs": [
        {
          "output_type": "stream",
          "name": "stdout",
          "text": [
            "8\n",
            "0\n",
            "1\n"
          ]
        }
      ]
    },
    {
      "cell_type": "code",
      "source": [
        "print(5%3)"
      ],
      "metadata": {
        "colab": {
          "base_uri": "https://localhost:8080/"
        },
        "id": "Jft5jbleT0yu",
        "outputId": "9fafd4af-b432-4aaf-b8ca-a473ba403f50"
      },
      "execution_count": 10,
      "outputs": [
        {
          "output_type": "stream",
          "name": "stdout",
          "text": [
            "2\n"
          ]
        }
      ]
    },
    {
      "cell_type": "markdown",
      "source": [
        "#### Strings"
      ],
      "metadata": {
        "id": "cAn81_4iXNqQ"
      }
    },
    {
      "cell_type": "code",
      "source": [
        "print(type(\"Hello World!\"))"
      ],
      "metadata": {
        "colab": {
          "base_uri": "https://localhost:8080/"
        },
        "id": "pzSAyqjIXO2B",
        "outputId": "c4a890cb-171e-413b-b085-8c14ffc9b555"
      },
      "execution_count": 25,
      "outputs": [
        {
          "output_type": "stream",
          "name": "stdout",
          "text": [
            "<class 'str'>\n"
          ]
        }
      ]
    },
    {
      "cell_type": "code",
      "source": [
        "username = \"super_coder\"\n",
        "print(username)"
      ],
      "metadata": {
        "colab": {
          "base_uri": "https://localhost:8080/"
        },
        "id": "aPL9lUaZXSwT",
        "outputId": "e97d89a2-70fe-4daa-e408-998ccace6445"
      },
      "execution_count": 27,
      "outputs": [
        {
          "output_type": "stream",
          "name": "stdout",
          "text": [
            "super_coder\n"
          ]
        }
      ]
    },
    {
      "cell_type": "code",
      "source": [
        "long_string = \"\"\"\n",
        "WOW\n",
        "O o\n",
        "---\n",
        "\"\"\"\n",
        "print(long_string)"
      ],
      "metadata": {
        "colab": {
          "base_uri": "https://localhost:8080/"
        },
        "id": "1HXk4d_xXeHm",
        "outputId": "8b6e2e3f-deba-436f-a6d9-a1e88a0f3e51"
      },
      "execution_count": 29,
      "outputs": [
        {
          "output_type": "stream",
          "name": "stdout",
          "text": [
            "\n",
            "WOW\n",
            "O o\n",
            "---\n",
            "\n"
          ]
        }
      ]
    },
    {
      "cell_type": "code",
      "source": [
        "firstname = \"Christoph\"\n",
        "lastname = \"Kempkes\"\n",
        "print(firstname + \"\" + lastname)"
      ],
      "metadata": {
        "colab": {
          "base_uri": "https://localhost:8080/"
        },
        "id": "GxoqoFa6XrnK",
        "outputId": "e0556f38-b9f1-4717-f73b-98c948edc347"
      },
      "execution_count": 31,
      "outputs": [
        {
          "output_type": "stream",
          "name": "stdout",
          "text": [
            "ChristophKempkes\n"
          ]
        }
      ]
    },
    {
      "cell_type": "markdown",
      "source": [
        "#### String Concatenation"
      ],
      "metadata": {
        "id": "U8_KFWH2X5PQ"
      }
    },
    {
      "cell_type": "code",
      "source": [
        "print(\"hello\"+\" \"+\"world!\")"
      ],
      "metadata": {
        "colab": {
          "base_uri": "https://localhost:8080/"
        },
        "id": "ICPvMEqOX7E6",
        "outputId": "e33dd5ee-137f-4d06-a9a1-8629f17bc8cd"
      },
      "execution_count": 33,
      "outputs": [
        {
          "output_type": "stream",
          "name": "stdout",
          "text": [
            "hello world!\n"
          ]
        }
      ]
    },
    {
      "cell_type": "markdown",
      "source": [
        "#### Type conversion"
      ],
      "metadata": {
        "id": "G5Ho7iUvYCgp"
      }
    },
    {
      "cell_type": "code",
      "source": [
        "print(type(int(str(100))))"
      ],
      "metadata": {
        "colab": {
          "base_uri": "https://localhost:8080/"
        },
        "id": "QycGF5XrYFuW",
        "outputId": "32360310-497a-4681-fdec-9bc9384048c5"
      },
      "execution_count": 34,
      "outputs": [
        {
          "output_type": "stream",
          "name": "stdout",
          "text": [
            "<class 'int'>\n"
          ]
        }
      ]
    },
    {
      "cell_type": "code",
      "source": [
        "a=str(100)\n",
        "b=int(a)\n",
        "c=type(b)\n",
        "print(c)"
      ],
      "metadata": {
        "colab": {
          "base_uri": "https://localhost:8080/"
        },
        "id": "-1yp-rNPYKUy",
        "outputId": "cd4905d9-b34a-43ce-9a0c-d17071cd068d"
      },
      "execution_count": 36,
      "outputs": [
        {
          "output_type": "stream",
          "name": "stdout",
          "text": [
            "<class 'int'>\n"
          ]
        }
      ]
    },
    {
      "cell_type": "markdown",
      "source": [
        "#### Escape sequence"
      ],
      "metadata": {
        "id": "qBVaG6z2YRGf"
      }
    },
    {
      "cell_type": "code",
      "source": [
        "weather = \"It's sunny\"\n",
        "print(weather)\n",
        "weather = 'It\\'s sunny'\n",
        "print(weather)\n",
        "weather = \"It\\s kind of \\\"sunny\\\"\"\n",
        "print(weather)"
      ],
      "metadata": {
        "colab": {
          "base_uri": "https://localhost:8080/"
        },
        "id": "K3F7IyuqYT2M",
        "outputId": "91debe1d-1173-4567-d8e4-5a02edafb897"
      },
      "execution_count": 40,
      "outputs": [
        {
          "output_type": "stream",
          "name": "stdout",
          "text": [
            "It's sunny\n",
            "It's sunny\n",
            "It\\s kind of \"sunny\"\n"
          ]
        }
      ]
    },
    {
      "cell_type": "markdown",
      "source": [
        "#### Formatted Strings"
      ],
      "metadata": {
        "id": "mqv5niViYphT"
      }
    },
    {
      "cell_type": "code",
      "source": [
        "name = \"Johnny\"\n",
        "age = 55\n",
        "print(\"Hi \" + name + \". You are \"+ str(age) + \" years old\")\n",
        "print(\"Hi {}. You are {} years old\".format(\"Susann\", \"25\"))\n",
        "print(\"Hi {}. You are {} years old\".format(name, age))\n",
        "print(\"Hi {1}. You are {0} years old\".format(age, name))\n",
        "print(\"Hi {new_name}. You are {age} years old\".format(age=21, new_name=\"Jack\"))\n",
        "print(f\"Hi {name}. You are {age} years old\")"
      ],
      "metadata": {
        "colab": {
          "base_uri": "https://localhost:8080/"
        },
        "id": "kf5rat_rYqXw",
        "outputId": "d5213356-a033-4946-9cca-8128061ab24d"
      },
      "execution_count": 53,
      "outputs": [
        {
          "output_type": "stream",
          "name": "stdout",
          "text": [
            "Hi Johnny. You are 55 years old\n",
            "Hi Susann. You are 25 years old\n",
            "Hi Johnny. You are 55 years old\n",
            "Hi Johnny. You are 55 years old\n",
            "Hi Jack. You are 21 years old\n",
            "Hi Johnny. You are 55 years old\n"
          ]
        }
      ]
    },
    {
      "cell_type": "markdown",
      "source": [
        "#### String Indexes"
      ],
      "metadata": {
        "id": "VzChjbsXZ4G3"
      }
    },
    {
      "cell_type": "code",
      "source": [
        "selfish = \"me you they\"\n",
        "print(selfish[0])\n",
        "print(selfish[1])\n",
        "print(selfish[2])\n",
        "print(selfish[-1])\n",
        "print(selfish[:5])\n",
        "print(selfish[::1]) # This is called slicing\n",
        "print(selfish[-5:])"
      ],
      "metadata": {
        "colab": {
          "base_uri": "https://localhost:8080/"
        },
        "id": "LRovDvyOZ5t7",
        "outputId": "07a3c03f-87f5-45ea-ab4a-382045072bc1"
      },
      "execution_count": 63,
      "outputs": [
        {
          "output_type": "stream",
          "name": "stdout",
          "text": [
            "m\n",
            "e\n",
            " \n",
            "y\n",
            "me yo\n",
            "me you they\n",
            " they\n"
          ]
        }
      ]
    },
    {
      "cell_type": "markdown",
      "source": [
        "#### Immutability\n",
        "Strings are immutable. I can not change values, once the string is created."
      ],
      "metadata": {
        "id": "U4kNJm6eaYel"
      }
    },
    {
      "cell_type": "code",
      "source": [
        "selfish = \"01234567\"\n",
        "print(selfish)\n",
        "selfish = 100\n",
        "print(selfish)"
      ],
      "metadata": {
        "colab": {
          "base_uri": "https://localhost:8080/"
        },
        "id": "aXEx39MTaaRt",
        "outputId": "bb7b0dad-fce8-4460-919e-47ae6ca88582"
      },
      "execution_count": 65,
      "outputs": [
        {
          "output_type": "stream",
          "name": "stdout",
          "text": [
            "01234567\n",
            "100\n"
          ]
        }
      ]
    },
    {
      "cell_type": "markdown",
      "source": [
        "#### Booleans"
      ],
      "metadata": {
        "id": "IZ9ILEIYctAQ"
      }
    },
    {
      "cell_type": "code",
      "source": [
        "name = \"Christoph\"\n",
        "is_cool = False\n",
        "is_cool = True"
      ],
      "metadata": {
        "id": "z7KETRMocuTY"
      },
      "execution_count": 78,
      "outputs": []
    },
    {
      "cell_type": "markdown",
      "source": [
        "## Math Functions"
      ],
      "metadata": {
        "id": "2IM1DnYlUANe"
      }
    },
    {
      "cell_type": "code",
      "source": [
        "print(round(3.1))\n",
        "print(abs(-20))"
      ],
      "metadata": {
        "colab": {
          "base_uri": "https://localhost:8080/"
        },
        "id": "bj9V8NwvT_wk",
        "outputId": "4139cb76-3f30-4d85-b58b-1c327abf4635"
      },
      "execution_count": 13,
      "outputs": [
        {
          "output_type": "stream",
          "name": "stdout",
          "text": [
            "3\n",
            "20\n"
          ]
        }
      ]
    },
    {
      "cell_type": "markdown",
      "source": [
        "### Operator Precedence"
      ],
      "metadata": {
        "id": "QHlKAePsU7_2"
      }
    },
    {
      "cell_type": "code",
      "source": [
        "print(20 + 3 * 4)\n",
        "print((20 - 3) + 2 ** 2)"
      ],
      "metadata": {
        "colab": {
          "base_uri": "https://localhost:8080/"
        },
        "id": "wBtqijENU-Ca",
        "outputId": "5d00d0b8-e1d6-4981-8b2c-f5efadc7d614"
      },
      "execution_count": 15,
      "outputs": [
        {
          "output_type": "stream",
          "name": "stdout",
          "text": [
            "32\n",
            "21\n"
          ]
        }
      ]
    },
    {
      "cell_type": "markdown",
      "source": [
        "## Variables\n",
        "\n"
      ],
      "metadata": {
        "id": "NFuow0HEVT1g"
      }
    },
    {
      "cell_type": "code",
      "source": [
        "iq = 125\n",
        "print(iq)"
      ],
      "metadata": {
        "colab": {
          "base_uri": "https://localhost:8080/"
        },
        "id": "MuUiUfZaVEtb",
        "outputId": "f028034a-be7a-4877-8619-db0faf8f4ca5"
      },
      "execution_count": 16,
      "outputs": [
        {
          "output_type": "stream",
          "name": "stdout",
          "text": [
            "125\n"
          ]
        }
      ]
    },
    {
      "cell_type": "code",
      "source": [
        "user_age=iq/7\n",
        "a = user_age\n",
        "print(a)"
      ],
      "metadata": {
        "colab": {
          "base_uri": "https://localhost:8080/"
        },
        "id": "vEaZf7LHVnYL",
        "outputId": "395275d5-ac06-4cf8-ce72-72db716d773d"
      },
      "execution_count": 17,
      "outputs": [
        {
          "output_type": "stream",
          "name": "stdout",
          "text": [
            "17.857142857142858\n"
          ]
        }
      ]
    },
    {
      "cell_type": "code",
      "source": [
        "a, b, c = 1, 2, 3\n",
        "print(b)"
      ],
      "metadata": {
        "colab": {
          "base_uri": "https://localhost:8080/"
        },
        "id": "3uKJaM2FWRZx",
        "outputId": "20072f51-6d28-4eee-d0c1-e6d11b229110"
      },
      "execution_count": 19,
      "outputs": [
        {
          "output_type": "stream",
          "name": "stdout",
          "text": [
            "2\n"
          ]
        }
      ]
    },
    {
      "cell_type": "markdown",
      "source": [
        "### Constants"
      ],
      "metadata": {
        "id": "W-Vqu_dDV7eF"
      }
    },
    {
      "cell_type": "code",
      "source": [
        "PI = 3.14 # Don't change this constant"
      ],
      "metadata": {
        "id": "A7SgoZUuV13r"
      },
      "execution_count": 18,
      "outputs": []
    },
    {
      "cell_type": "markdown",
      "source": [
        "## Expressions vs Statements"
      ],
      "metadata": {
        "id": "7ipfGRUvWW20"
      }
    },
    {
      "cell_type": "code",
      "source": [
        "iq = 100 # the hole line performing this action is the statement\n",
        "user_age = iq/5 # iq/5 is an expression, it causes code; "
      ],
      "metadata": {
        "id": "BrdTZNFHWZKW"
      },
      "execution_count": 21,
      "outputs": []
    },
    {
      "cell_type": "markdown",
      "source": [
        "## Augmented assignment operator"
      ],
      "metadata": {
        "id": "5fRhn-2QWwGT"
      }
    },
    {
      "cell_type": "code",
      "source": [
        "some_value = 5\n",
        "some_value = some_value + 2\n",
        "print(some_value)"
      ],
      "metadata": {
        "colab": {
          "base_uri": "https://localhost:8080/"
        },
        "id": "IMJTZQaGWqH8",
        "outputId": "2bc84b6e-6300-489d-cc49-3d0da20c6bc9"
      },
      "execution_count": 23,
      "outputs": [
        {
          "output_type": "stream",
          "name": "stdout",
          "text": [
            "7\n"
          ]
        }
      ]
    },
    {
      "cell_type": "code",
      "source": [
        "some_value += 2\n",
        "print(some_value)"
      ],
      "metadata": {
        "colab": {
          "base_uri": "https://localhost:8080/"
        },
        "id": "jxHnwcCVW87b",
        "outputId": "8a81953d-f11d-4554-e033-5552e3a3f7f9"
      },
      "execution_count": 24,
      "outputs": [
        {
          "output_type": "stream",
          "name": "stdout",
          "text": [
            "9\n"
          ]
        }
      ]
    },
    {
      "cell_type": "markdown",
      "source": [
        "## Built in functions"
      ],
      "metadata": {
        "id": "erpy82O4XGjG"
      }
    },
    {
      "cell_type": "code",
      "source": [
        "print(len(\"hellloooooooo\"))"
      ],
      "metadata": {
        "colab": {
          "base_uri": "https://localhost:8080/"
        },
        "id": "4A2AdHg0XDlr",
        "outputId": "4d2a3c8a-b092-45b9-ce48-f31e23cb4488"
      },
      "execution_count": 68,
      "outputs": [
        {
          "output_type": "stream",
          "name": "stdout",
          "text": [
            "13\n"
          ]
        }
      ]
    },
    {
      "cell_type": "code",
      "source": [
        "greet=\"hellloooooooo\"\n",
        "print(greet[0:2])\n",
        "print(greet[0:len(greet)])"
      ],
      "metadata": {
        "colab": {
          "base_uri": "https://localhost:8080/"
        },
        "id": "LlG0VlRZbUcQ",
        "outputId": "22e6e562-d174-49df-cc28-25c51d6db2b6"
      },
      "execution_count": 71,
      "outputs": [
        {
          "output_type": "stream",
          "name": "stdout",
          "text": [
            "he\n",
            "hellloooooooo\n"
          ]
        }
      ]
    },
    {
      "cell_type": "markdown",
      "source": [
        "## Built in methods"
      ],
      "metadata": {
        "id": "6FlBv3_ccDsx"
      }
    },
    {
      "cell_type": "code",
      "source": [
        "quote = \"to be or not to be. to be or not to be\"\n",
        "print(quote)\n",
        "print(quote.capitalize())\n",
        "print(quote.isnumeric())\n",
        "print(quote.upper())\n",
        "print(quote.replace(\"be\", \"me\"))"
      ],
      "metadata": {
        "colab": {
          "base_uri": "https://localhost:8080/"
        },
        "id": "xgPu2zGeblDZ",
        "outputId": "0b95cf6c-c98c-4123-a0b3-08fe9c74b563"
      },
      "execution_count": 77,
      "outputs": [
        {
          "output_type": "stream",
          "name": "stdout",
          "text": [
            "to be or not to be. to be or not to be\n",
            "To be or not to be. to be or not to be\n",
            "False\n",
            "TO BE OR NOT TO BE. TO BE OR NOT TO BE\n",
            "to me or not to me. to me or not to me\n"
          ]
        }
      ]
    },
    {
      "cell_type": "markdown",
      "source": [
        "## Lists\n",
        "- List is an ordered sequence.\n",
        "- Lists are a form of arrays.\n",
        "- Lists are mutable"
      ],
      "metadata": {
        "id": "Vuj-e6Iydcwn"
      }
    },
    {
      "cell_type": "code",
      "source": [
        "li = [\"hello\", \"world\"]\n",
        "lis = [1, 2, 3, 4, 5]\n",
        "list = [1, 2.5, \"hello\", False]\n",
        "print(li)\n",
        "print(lis)\n",
        "print(list)"
      ],
      "metadata": {
        "colab": {
          "base_uri": "https://localhost:8080/"
        },
        "id": "v7Lhi9uncRg2",
        "outputId": "0d54b8eb-517c-4912-a42b-71159053c375"
      },
      "execution_count": 82,
      "outputs": [
        {
          "output_type": "stream",
          "name": "stdout",
          "text": [
            "['hello', 'world']\n",
            "[1, 2, 3, 4, 5]\n",
            "[1, 2.5, 'hello', False]\n"
          ]
        }
      ]
    },
    {
      "cell_type": "code",
      "source": [
        "amazon_cart = [\"notebook\", \"mouse\", \"sunglasses\"]\n",
        "print(amazon_cart[0])"
      ],
      "metadata": {
        "colab": {
          "base_uri": "https://localhost:8080/"
        },
        "id": "5GwcgxhxeNkh",
        "outputId": "0617bfdc-ce5d-4d05-e243-a93368f07e79"
      },
      "execution_count": 84,
      "outputs": [
        {
          "output_type": "stream",
          "name": "stdout",
          "text": [
            "notebook\n"
          ]
        }
      ]
    },
    {
      "cell_type": "markdown",
      "source": [
        "### List slicing"
      ],
      "metadata": {
        "id": "EGa9i1SBeuCA"
      }
    },
    {
      "cell_type": "code",
      "source": [
        "amazon_cart=[\n",
        "    \"notebook\",\n",
        "    \"sunglasses\",\n",
        "    \"toys\",\n",
        "    \"grapes\"\n",
        "]\n",
        "print(amazon_cart)\n",
        "print(amazon_cart[0:2])\n",
        "print(amazon_cart[1::2])"
      ],
      "metadata": {
        "colab": {
          "base_uri": "https://localhost:8080/"
        },
        "id": "GuBHMuhfdnvV",
        "outputId": "29153575-7bf5-4b0c-f89c-d1fbc00dbd56"
      },
      "execution_count": 91,
      "outputs": [
        {
          "output_type": "stream",
          "name": "stdout",
          "text": [
            "['notebook', 'sunglasses', 'toys', 'grapes']\n",
            "['notebook', 'sunglasses']\n",
            "['sunglasses', 'grapes']\n"
          ]
        }
      ]
    },
    {
      "cell_type": "code",
      "source": [
        "amazon_cart[0] = \"Laptop\"\n",
        "print(amazon_cart)\n",
        "print(amazon_cart[1:3])"
      ],
      "metadata": {
        "colab": {
          "base_uri": "https://localhost:8080/"
        },
        "id": "PN4KwEFaezhW",
        "outputId": "fae70c72-1adf-48ae-9a4d-32b46b085ebf"
      },
      "execution_count": 94,
      "outputs": [
        {
          "output_type": "stream",
          "name": "stdout",
          "text": [
            "['Laptop', 'sunglasses', 'toys', 'grapes']\n",
            "['sunglasses', 'toys']\n"
          ]
        }
      ]
    },
    {
      "cell_type": "code",
      "source": [
        "new_cart = amazon_cart\n",
        "new_cart[0] = \"gum\"\n",
        "print(new_cart)\n",
        "print(amazon_cart)\n",
        "# Amazon cart aims somewhere in memory, new_cart aims there, too."
      ],
      "metadata": {
        "colab": {
          "base_uri": "https://localhost:8080/"
        },
        "id": "Uv_pwMgofRU1",
        "outputId": "5f4c9126-78ce-4905-80e3-92014de08463"
      },
      "execution_count": 100,
      "outputs": [
        {
          "output_type": "stream",
          "name": "stdout",
          "text": [
            "['gum', 'sunglasses', 'toys', 'grapes']\n",
            "['gum', 'sunglasses', 'toys', 'grapes']\n"
          ]
        }
      ]
    },
    {
      "cell_type": "code",
      "source": [
        "new_cart = amazon_cart[:]\n",
        "# Create a copy using list slicing\n",
        "new_cart[1] = \"gummybear\"\n",
        "print(new_cart)\n",
        "print(amazon_cart)"
      ],
      "metadata": {
        "colab": {
          "base_uri": "https://localhost:8080/"
        },
        "id": "4Hszd59Sfy1E",
        "outputId": "5c6486fd-df62-4851-e322-c0f3b597fc3d"
      },
      "execution_count": 102,
      "outputs": [
        {
          "output_type": "stream",
          "name": "stdout",
          "text": [
            "['gum', 'gummybear', 'toys', 'grapes']\n",
            "['gum', 'sunglasses', 'toys', 'grapes']\n"
          ]
        }
      ]
    },
    {
      "cell_type": "markdown",
      "source": [
        "### Matrix\n",
        "Multidimensional lists"
      ],
      "metadata": {
        "id": "d_TzzF30gggZ"
      }
    },
    {
      "cell_type": "code",
      "source": [
        "matrix = [\n",
        "    [1, 2, 3],\n",
        "    [2, 4, 6],\n",
        "    [7, 8, 9]\n",
        "    ]\n",
        "print(matrix)"
      ],
      "metadata": {
        "colab": {
          "base_uri": "https://localhost:8080/"
        },
        "id": "daOpbo7zgTJl",
        "outputId": "a7daa972-37b6-47a2-abfc-b924d6f17fd8"
      },
      "execution_count": 108,
      "outputs": [
        {
          "output_type": "stream",
          "name": "stdout",
          "text": [
            "[[1, 2, 3], [2, 4, 6], [7, 8, 9]]\n"
          ]
        }
      ]
    },
    {
      "cell_type": "code",
      "source": [
        "print(matrix[1][1])"
      ],
      "metadata": {
        "colab": {
          "base_uri": "https://localhost:8080/"
        },
        "id": "h8BGjZv_hK3j",
        "outputId": "64e6a108-4251-432a-a8aa-cd1ef55a62d6"
      },
      "execution_count": 109,
      "outputs": [
        {
          "output_type": "stream",
          "name": "stdout",
          "text": [
            "4\n"
          ]
        }
      ]
    },
    {
      "cell_type": "code",
      "source": [
        "matrix = [\n",
        "    [1, 0, 1],\n",
        "    [0, 1, 0],\n",
        "    [1, 0, 1]\n",
        "]\n",
        "print(matrix)"
      ],
      "metadata": {
        "colab": {
          "base_uri": "https://localhost:8080/"
        },
        "id": "OO5scztPgtgl",
        "outputId": "1acaab9e-0289-4128-8383-43c9a743aed6"
      },
      "execution_count": 104,
      "outputs": [
        {
          "output_type": "stream",
          "name": "stdout",
          "text": [
            "[[1, 0, 1], [0, 1, 0], [1, 0, 1]]\n"
          ]
        }
      ]
    },
    {
      "cell_type": "code",
      "source": [
        ""
      ],
      "metadata": {
        "colab": {
          "base_uri": "https://localhost:8080/"
        },
        "id": "axvoL9kVhFfW",
        "outputId": "15d20d78-4bc0-4314-cb21-bb90f7e952dd"
      },
      "execution_count": 105,
      "outputs": [
        {
          "output_type": "stream",
          "name": "stdout",
          "text": [
            "0\n"
          ]
        }
      ]
    },
    {
      "cell_type": "code",
      "source": [
        ""
      ],
      "metadata": {
        "id": "c95MtJixhIsE"
      },
      "execution_count": null,
      "outputs": []
    }
  ]
}